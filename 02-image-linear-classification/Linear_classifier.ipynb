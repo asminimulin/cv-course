{
  "nbformat": 4,
  "nbformat_minor": 0,
  "metadata": {
    "colab": {
      "provenance": [],
      "include_colab_link": true
    },
    "kernelspec": {
      "name": "python3",
      "display_name": "Python 3"
    }
  },
  "cells": [
    {
      "cell_type": "markdown",
      "metadata": {
        "id": "view-in-github",
        "colab_type": "text"
      },
      "source": [
        "<a href=\"https://colab.research.google.com/github/asminimulin/cv-course/blob/main/02-image-linear-classification/Linear_classifier.ipynb\" target=\"_parent\"><img src=\"https://colab.research.google.com/assets/colab-badge.svg\" alt=\"Open In Colab\"/></a>"
      ]
    },
    {
      "cell_type": "markdown",
      "metadata": {
        "id": "BlRBhMZtdf94"
      },
      "source": [
        "# Download dataset with Pytorch\n",
        "\n"
      ]
    },
    {
      "cell_type": "markdown",
      "metadata": {
        "id": "BNE5Qqw_rdsV"
      },
      "source": [
        "## Load the data"
      ]
    },
    {
      "cell_type": "code",
      "source": [
        "from functools import partial\n",
        "from torch import Tensor\n",
        "import torch\n",
        "\n",
        "import matplotlib.pyplot as plt"
      ],
      "metadata": {
        "id": "zi8Iull1QkqB"
      },
      "execution_count": 235,
      "outputs": []
    },
    {
      "cell_type": "code",
      "metadata": {
        "id": "vKAZ-aQtrg8q"
      },
      "source": [
        "from torchvision import models, datasets, transforms\n",
        "from torch.utils.data import DataLoader, random_split\n",
        "import numpy as np\n",
        "from PIL import Image\n",
        "\n",
        "\n",
        "# Define transformation for each image\n",
        "transform  = transforms.Compose([\n",
        "    transforms.Lambda(lambda x: np.array(x).flatten().astype(np.float32) / 255) #Stretch image into row [32,32,3] -> [3072]\n",
        "])\n",
        "\n",
        "# Download a CIFAR10 dataset\n",
        "dataset = datasets.CIFAR10(\"/content\",\n",
        "                           train=True,\n",
        "                           transform = transform,\n",
        "                           download=False)\n"
      ],
      "execution_count": 366,
      "outputs": []
    },
    {
      "cell_type": "markdown",
      "source": [
        "## Make sure there is no problems with dtype overflow"
      ],
      "metadata": {
        "id": "Xz6QQrrHvjk5"
      }
    },
    {
      "cell_type": "code",
      "source": [
        "print(dataset[0][0].dtype)"
      ],
      "metadata": {
        "id": "Q3mkBqnqvt3F",
        "outputId": "a9e06bbc-514c-4bcf-8815-f5bbe9960e5c",
        "colab": {
          "base_uri": "https://localhost:8080/"
        }
      },
      "execution_count": 367,
      "outputs": [
        {
          "output_type": "stream",
          "name": "stdout",
          "text": [
            "float32\n"
          ]
        }
      ]
    },
    {
      "cell_type": "markdown",
      "metadata": {
        "id": "I3F4IoDErlcw"
      },
      "source": [
        "## Split dataset & define dataloaders"
      ]
    },
    {
      "cell_type": "code",
      "metadata": {
        "id": "Fu02DmABYxoh",
        "colab": {
          "base_uri": "https://localhost:8080/",
          "height": 85
        },
        "outputId": "8cc34d82-bd9c-42cd-8acd-44d981a2f930"
      },
      "source": [
        "train_ds, val_ds, _= random_split(dataset, [25000,10000 ,15000])\n",
        "# Hint: Perform debug on smaller subset\n",
        "\n",
        "batch_size = 500\n",
        "\n",
        "train_loader = DataLoader(train_ds, batch_size = batch_size)\n",
        "val_loader = DataLoader(val_ds, batch_size = 15000)\n",
        "\n",
        "# Display one image\n",
        "for images, class_nums in train_loader:\n",
        "  print (images.shape,class_nums.shape) # class_nums are tensor!\n",
        "  grayscale = np.uint8(images[0].reshape((32, 32, 3)).numpy() * 255)\n",
        "  display(Image.fromarray(grayscale, 'RGB'),class_nums[0].item()) \n",
        "  break\n"
      ],
      "execution_count": 401,
      "outputs": [
        {
          "output_type": "stream",
          "name": "stdout",
          "text": [
            "torch.Size([500, 3072]) torch.Size([500])\n"
          ]
        },
        {
          "output_type": "display_data",
          "data": {
            "text/plain": [
              "<PIL.Image.Image image mode=RGB size=32x32 at 0x7FD4FB902CD0>"
            ],
            "image/png": "[encoded data removed]"
          },
          "metadata": {}
        },
        {
          "output_type": "display_data",
          "data": {
            "text/plain": [
              "5"
            ]
          },
          "metadata": {}
        }
      ]
    },
    {
      "cell_type": "markdown",
      "metadata": {
        "id": "GqC6xXhSeUPr"
      },
      "source": [
        "# Implement LinearClassifier class for CIFAR10"
      ]
    },
    {
      "cell_type": "code",
      "metadata": {
        "id": "vaxIJUM7eQUp"
      },
      "source": [
        "class LinearClassifier:\n",
        "  def __init__(self, labels):\n",
        "    self.__labels = labels\n",
        "    self.__classes_num = len(labels)\n",
        "    # self.__weights = torch.from_numpy((np.random.randn(1024, self.__classes_num) * 0.0001).astype(np.float32))\n",
        "    self.__w_unnormalized = torch.randn(1025, len(labels), dtype=torch.float32, requires_grad=True)\n",
        "    self.__weights = self.__w_unnormalized * 0.0001\n",
        "\n",
        "  \n",
        "  def train(self, images: np.array, labels: np.array, learning_rate = 1e-6):\n",
        "    \"\"\"\n",
        "      Arguments:\n",
        "        images  (numpy.array): collection of objects (batch)\n",
        "        labels  (numpy.array): collection of integer \n",
        "        representing a class number for objects from x\n",
        "    \n",
        "    \"\"\"\n",
        "    images = torch.from_numpy(self.__add_ones(images.numpy()).astype(np.float32))\n",
        "    # images = torch.from_numpy(images)\n",
        "\n",
        "    loss_val, grad = self.__loss(images, labels)\n",
        "\n",
        "    self.__weights -= (grad * learning_rate)\n",
        "\n",
        "    return loss_val/images.shape[0]\n",
        "\n",
        "\n",
        "  def predict(self,x):\n",
        "    # x = torch.from_numpy(x.astype(np.float32))\n",
        "    x = torch.from_numpy(self.__add_ones(x).astype(np.float32))\n",
        "    scores = x @ self.__weights # (256, 1025) * (1025, 10)\n",
        "    return torch.argmax(scores,axis = 1)\n",
        "\n",
        "\n",
        "  __weights: np.array  # np.array of shape (1024, 10)\n",
        "\n",
        "\n",
        "  def __loss(self, images, labels):\n",
        "    \"\"\"\n",
        "      Arguments:\n",
        "        images  (numpy.array or torch.Tensor): collection of objects (batch)\n",
        "        labels  (numpy.array or torch.Tensor): collection of integer \n",
        "        representing a class number for objects from x\n",
        "    \n",
        "    \"\"\"\n",
        "\n",
        "    # Calculate Multiclass SVM or Cross-entropy loss over a batch \n",
        "    # loss = self.__calc_svm_loss(images, labels, self.__weights)\n",
        "    loss = self.__calc_mce_loss(images, labels, self.__weights)\n",
        "\n",
        "    # Calculate gradients (dL/dW) and store it in dW\n",
        "    # grad = self.__calc_numeric_grad(partial(self.__calc_svm_loss, images, labels), loss)\n",
        "    loss.backward(retain_graph=True)\n",
        "    grad = self.__w_unnormalized.grad\n",
        "\n",
        "    return loss, grad\n",
        "\n",
        "\n",
        "  @staticmethod\n",
        "  def __add_ones(images):\n",
        "    return np.append(images, np.ones((images.shape[0], 1)), axis=1)\n",
        "\n",
        "\n",
        "  @staticmethod\n",
        "  def __calc_svm_loss(images: np.array, labels: np.array, weights: np.array):\n",
        "    # images.shape = (N, S)\n",
        "    # self.__wights.shape = (S, 10)\n",
        "    # (N, S) * (S, 10) = (N, 10)\n",
        "    # scores is two-dimensional np.array, each row contains scores of every class\n",
        "    scores = images @ weights\n",
        "    \n",
        "    correct_scores = np.zeros((scores.shape[0], 1))\n",
        "    for i, (label, score_arr) in enumerate(zip(labels, scores)):\n",
        "      correct_scores[i][0] = score_arr[label] + 1\n",
        "\n",
        "    diffs = correct_scores - scores\n",
        "    np.clip(diffs, 0, max(0, np.max(diffs)), out=diffs)\n",
        "    return np.sum(diffs)\n",
        "\n",
        "\n",
        "  @staticmethod\n",
        "  def __calc_mce_loss(images: Tensor, labels: Tensor, weights: Tensor):\n",
        "    scores = images @ weights\n",
        "\n",
        "    # print(scores[:5])\n",
        "    scores_exp = torch.exp(scores)\n",
        "    # print(scores_exp[:5])\n",
        "    scores_sums = torch.sum(scores_exp, dim=1, keepdim=True)\n",
        "    # print(scores_sums[:5])\n",
        "    scores_probabilities = scores_exp / scores_sums\n",
        "    # print(scores_probabilities[:5])\n",
        "    # print(torch.sum(scores_probabilities, dim=1)[:5])\n",
        "\n",
        "    return (-torch.log(torch.gather(scores_probabilities, dim=1, index=labels.reshape((labels.shape[0], 1))))).sum()\n",
        "    # return scores.sum()\n",
        "\n",
        "\n",
        "  def __cals_analytic_grad(self):\n",
        "    pass\n",
        "\n",
        "  def __calc_numeric_grad(self, calc_loss, current_loss: float, delta=0.0001):\n",
        "    grad = [[0] * self.__weights.shape[1]] * self.__weights.shape[0]\n",
        "    for i in range(self.__weights.shape[0]):\n",
        "      for j in range(self.__weights.shape[1]):\n",
        "        d_weights = np.copy(self.__weights)\n",
        "        d_weights[i, j] += delta\n",
        "        loss_diff = calc_loss(d_weights) - current_loss\n",
        "        grad[i][j] = (loss_diff) / delta\n",
        "    return np.array(grad)\n"
      ],
      "execution_count": 370,
      "outputs": []
    },
    {
      "cell_type": "code",
      "source": [
        "def my_test():\n",
        "  # print(dataset.classes)\n",
        "  # for images, class_nums in train_loader:\n",
        "  #   print(len(images), len(class_nums))\n",
        "  #   print(class_nums.shape)\n",
        "  #   return\n",
        "  #   print(class_nums[:15], min(class_nums), max(class_nums))\n",
        "  #   for tensor, label in zip(images[:15], class_nums[:15]):\n",
        "  #     print(f\"Class={label}-{dataset.classes[label]}\")\n",
        "  #     display(Image.fromarray((tensor.numpy().reshape(32, 32) * 255).astype(np.uint8), 'L'));\n",
        "  #   break\n",
        "  model = LinearClassifier(dataset.classes)\n",
        "  for images, classes in train_loader:\n",
        "    return model.train(images, classes)\n",
        "  \n",
        "my_test()"
      ],
      "metadata": {
        "id": "XEJxhWINqxo5",
        "outputId": "ad2177be-ce5d-4496-96a1-ae618beef99c",
        "colab": {
          "base_uri": "https://localhost:8080/",
          "height": 354
        }
      },
      "execution_count": 371,
      "outputs": [
        {
          "output_type": "error",
          "ename": "RuntimeError",
          "evalue": "ignored",
          "traceback": [
            "\u001b[0;31m---------------------------------------------------------------------------\u001b[0m",
            "\u001b[0;31mRuntimeError\u001b[0m                              Traceback (most recent call last)",
            "\u001b[0;32m<ipython-input-371-4aef54d15b6b>\u001b[0m in \u001b[0;36m<module>\u001b[0;34m\u001b[0m\n\u001b[1;32m     14\u001b[0m     \u001b[0;32mreturn\u001b[0m \u001b[0mmodel\u001b[0m\u001b[0;34m.\u001b[0m\u001b[0mtrain\u001b[0m\u001b[0;34m(\u001b[0m\u001b[0mimages\u001b[0m\u001b[0;34m,\u001b[0m \u001b[0mclasses\u001b[0m\u001b[0;34m)\u001b[0m\u001b[0;34m\u001b[0m\u001b[0;34m\u001b[0m\u001b[0m\n\u001b[1;32m     15\u001b[0m \u001b[0;34m\u001b[0m\u001b[0m\n\u001b[0;32m---> 16\u001b[0;31m \u001b[0mmy_test\u001b[0m\u001b[0;34m(\u001b[0m\u001b[0;34m)\u001b[0m\u001b[0;34m\u001b[0m\u001b[0;34m\u001b[0m\u001b[0m\n\u001b[0m",
            "\u001b[0;32m<ipython-input-371-4aef54d15b6b>\u001b[0m in \u001b[0;36mmy_test\u001b[0;34m()\u001b[0m\n\u001b[1;32m     12\u001b[0m   \u001b[0mmodel\u001b[0m \u001b[0;34m=\u001b[0m \u001b[0mLinearClassifier\u001b[0m\u001b[0;34m(\u001b[0m\u001b[0mdataset\u001b[0m\u001b[0;34m.\u001b[0m\u001b[0mclasses\u001b[0m\u001b[0;34m)\u001b[0m\u001b[0;34m\u001b[0m\u001b[0;34m\u001b[0m\u001b[0m\n\u001b[1;32m     13\u001b[0m   \u001b[0;32mfor\u001b[0m \u001b[0mimages\u001b[0m\u001b[0;34m,\u001b[0m \u001b[0mclasses\u001b[0m \u001b[0;32min\u001b[0m \u001b[0mtrain_loader\u001b[0m\u001b[0;34m:\u001b[0m\u001b[0;34m\u001b[0m\u001b[0;34m\u001b[0m\u001b[0m\n\u001b[0;32m---> 14\u001b[0;31m     \u001b[0;32mreturn\u001b[0m \u001b[0mmodel\u001b[0m\u001b[0;34m.\u001b[0m\u001b[0mtrain\u001b[0m\u001b[0;34m(\u001b[0m\u001b[0mimages\u001b[0m\u001b[0;34m,\u001b[0m \u001b[0mclasses\u001b[0m\u001b[0;34m)\u001b[0m\u001b[0;34m\u001b[0m\u001b[0;34m\u001b[0m\u001b[0m\n\u001b[0m\u001b[1;32m     15\u001b[0m \u001b[0;34m\u001b[0m\u001b[0m\n\u001b[1;32m     16\u001b[0m \u001b[0mmy_test\u001b[0m\u001b[0;34m(\u001b[0m\u001b[0;34m)\u001b[0m\u001b[0;34m\u001b[0m\u001b[0;34m\u001b[0m\u001b[0m\n",
            "\u001b[0;32m<ipython-input-370-0bef668cf853>\u001b[0m in \u001b[0;36mtrain\u001b[0;34m(self, images, labels, learning_rate)\u001b[0m\n\u001b[1;32m     19\u001b[0m     \u001b[0;31m# images = torch.from_numpy(images)\u001b[0m\u001b[0;34m\u001b[0m\u001b[0;34m\u001b[0m\u001b[0;34m\u001b[0m\u001b[0m\n\u001b[1;32m     20\u001b[0m \u001b[0;34m\u001b[0m\u001b[0m\n\u001b[0;32m---> 21\u001b[0;31m     \u001b[0mloss_val\u001b[0m\u001b[0;34m,\u001b[0m \u001b[0mgrad\u001b[0m \u001b[0;34m=\u001b[0m \u001b[0mself\u001b[0m\u001b[0;34m.\u001b[0m\u001b[0m__loss\u001b[0m\u001b[0;34m(\u001b[0m\u001b[0mimages\u001b[0m\u001b[0;34m,\u001b[0m \u001b[0mlabels\u001b[0m\u001b[0;34m)\u001b[0m\u001b[0;34m\u001b[0m\u001b[0;34m\u001b[0m\u001b[0m\n\u001b[0m\u001b[1;32m     22\u001b[0m \u001b[0;34m\u001b[0m\u001b[0m\n\u001b[1;32m     23\u001b[0m     \u001b[0mself\u001b[0m\u001b[0;34m.\u001b[0m\u001b[0m__weights\u001b[0m \u001b[0;34m-=\u001b[0m \u001b[0;34m(\u001b[0m\u001b[0mgrad\u001b[0m \u001b[0;34m*\u001b[0m \u001b[0mlearning_rate\u001b[0m\u001b[0;34m)\u001b[0m\u001b[0;34m\u001b[0m\u001b[0;34m\u001b[0m\u001b[0m\n",
            "\u001b[0;32m<ipython-input-370-0bef668cf853>\u001b[0m in \u001b[0;36m__loss\u001b[0;34m(self, images, labels)\u001b[0m\n\u001b[1;32m     47\u001b[0m     \u001b[0;31m# Calculate Multiclass SVM or Cross-entropy loss over a batch\u001b[0m\u001b[0;34m\u001b[0m\u001b[0;34m\u001b[0m\u001b[0;34m\u001b[0m\u001b[0m\n\u001b[1;32m     48\u001b[0m     \u001b[0;31m# loss = self.__calc_svm_loss(images, labels, self.__weights)\u001b[0m\u001b[0;34m\u001b[0m\u001b[0;34m\u001b[0m\u001b[0;34m\u001b[0m\u001b[0m\n\u001b[0;32m---> 49\u001b[0;31m     \u001b[0mloss\u001b[0m \u001b[0;34m=\u001b[0m \u001b[0mself\u001b[0m\u001b[0;34m.\u001b[0m\u001b[0m__calc_mce_loss\u001b[0m\u001b[0;34m(\u001b[0m\u001b[0mimages\u001b[0m\u001b[0;34m,\u001b[0m \u001b[0mlabels\u001b[0m\u001b[0;34m,\u001b[0m \u001b[0mself\u001b[0m\u001b[0;34m.\u001b[0m\u001b[0m__weights\u001b[0m\u001b[0;34m)\u001b[0m\u001b[0;34m\u001b[0m\u001b[0;34m\u001b[0m\u001b[0m\n\u001b[0m\u001b[1;32m     50\u001b[0m \u001b[0;34m\u001b[0m\u001b[0m\n\u001b[1;32m     51\u001b[0m     \u001b[0;31m# Calculate gradients (dL/dW) and store it in dW\u001b[0m\u001b[0;34m\u001b[0m\u001b[0;34m\u001b[0m\u001b[0;34m\u001b[0m\u001b[0m\n",
            "\u001b[0;32m<ipython-input-370-0bef668cf853>\u001b[0m in \u001b[0;36m__calc_mce_loss\u001b[0;34m(images, labels, weights)\u001b[0m\n\u001b[1;32m     81\u001b[0m   \u001b[0;34m@\u001b[0m\u001b[0mstaticmethod\u001b[0m\u001b[0;34m\u001b[0m\u001b[0;34m\u001b[0m\u001b[0m\n\u001b[1;32m     82\u001b[0m   \u001b[0;32mdef\u001b[0m \u001b[0m__calc_mce_loss\u001b[0m\u001b[0;34m(\u001b[0m\u001b[0mimages\u001b[0m\u001b[0;34m:\u001b[0m \u001b[0mTensor\u001b[0m\u001b[0;34m,\u001b[0m \u001b[0mlabels\u001b[0m\u001b[0;34m:\u001b[0m \u001b[0mTensor\u001b[0m\u001b[0;34m,\u001b[0m \u001b[0mweights\u001b[0m\u001b[0;34m:\u001b[0m \u001b[0mTensor\u001b[0m\u001b[0;34m)\u001b[0m\u001b[0;34m:\u001b[0m\u001b[0;34m\u001b[0m\u001b[0;34m\u001b[0m\u001b[0m\n\u001b[0;32m---> 83\u001b[0;31m     \u001b[0mscores\u001b[0m \u001b[0;34m=\u001b[0m \u001b[0mimages\u001b[0m \u001b[0;34m@\u001b[0m \u001b[0mweights\u001b[0m\u001b[0;34m\u001b[0m\u001b[0;34m\u001b[0m\u001b[0m\n\u001b[0m\u001b[1;32m     84\u001b[0m \u001b[0;34m\u001b[0m\u001b[0m\n\u001b[1;32m     85\u001b[0m     \u001b[0;31m# print(scores[:5])\u001b[0m\u001b[0;34m\u001b[0m\u001b[0;34m\u001b[0m\u001b[0;34m\u001b[0m\u001b[0m\n",
            "\u001b[0;31mRuntimeError\u001b[0m: mat1 and mat2 shapes cannot be multiplied (500x3073 and 1025x10)"
          ]
        }
      ]
    },
    {
      "cell_type": "code",
      "source": [
        "l0 = torch.from_numpy(np.array(\n",
        "    [0, 2]\n",
        "))\n",
        "\n",
        "k0 = torch.from_numpy(np.array(\n",
        "    [[1, 2, 3],\n",
        "    [4, 5, 6],\n",
        "    [7, 8, 9]]\n",
        "))\n",
        "\n",
        "k0[]"
      ],
      "metadata": {
        "id": "tAMA1UWj2jn5",
        "outputId": "3af3ba1d-bdc2-40a2-bb31-c63719a11e9d",
        "colab": {
          "base_uri": "https://localhost:8080/",
          "height": 133
        }
      },
      "execution_count": 372,
      "outputs": [
        {
          "output_type": "error",
          "ename": "SyntaxError",
          "evalue": "ignored",
          "traceback": [
            "\u001b[0;36m  File \u001b[0;32m\"<ipython-input-372-b654999da24b>\"\u001b[0;36m, line \u001b[0;32m11\u001b[0m\n\u001b[0;31m    k0[]\u001b[0m\n\u001b[0m       ^\u001b[0m\n\u001b[0;31mSyntaxError\u001b[0m\u001b[0;31m:\u001b[0m invalid syntax\n"
          ]
        }
      ]
    },
    {
      "cell_type": "code",
      "source": [
        "def add_ones_to_tensor(tensor: Tensor):\n",
        "  return torch.from_numpy(np.append(tensor.numpy(), np.ones((tensor.shape[0], 1), dtype=np.float32), axis=1))\n",
        "\n",
        "class LinearClassifier(torch.nn.Module):\n",
        "  def __init__(self, input_dim=3073, output_dim=10):\n",
        "    super(LinearClassifier, self).__init__()\n",
        "    self.linear = torch.nn.Linear(input_dim, output_dim)\n",
        "  \n",
        "  def forward(self, x):\n",
        "    return self.linear(x)\n"
      ],
      "metadata": {
        "id": "k6jZTBXNI6IL"
      },
      "execution_count": 424,
      "outputs": []
    },
    {
      "cell_type": "code",
      "source": [],
      "metadata": {
        "id": "7WdPIihtJMZ6"
      },
      "execution_count": 424,
      "outputs": []
    },
    {
      "cell_type": "code",
      "source": [
        "model = LinearClassifier()\n",
        "criterion = torch.nn.CrossEntropyLoss()\n",
        "\n",
        "optimizer = torch.optim.Adam(model.parameters(), lr=0.25)\n",
        "\n",
        "all_loss = []\n",
        "\n",
        "for epoch in range(300):\n",
        "  print(f\"Epoch: {epoch}\")\n",
        "  for (images, classes) in train_loader:\n",
        "    images = add_ones_to_tensor(images.type(torch.float32) / (255))\n",
        "    output = model(images)\n",
        "\n",
        "    loss = criterion(output, classes.view(-1))\n",
        "    all_loss.append(loss.item())\n",
        "    loss.backward()\n",
        "\n",
        "    optimizer.step()\n",
        "    optimizer.zero_grad()\n",
        "    break"
      ],
      "metadata": {
        "id": "LeO6o35BJXDj",
        "outputId": "f49f9837-ff29-43fb-a275-0712d6828868",
        "colab": {
          "base_uri": "https://localhost:8080/"
        }
      },
      "execution_count": 425,
      "outputs": [
        {
          "output_type": "stream",
          "name": "stdout",
          "text": [
            "Epoch: 0\n",
            "Epoch: 1\n",
            "Epoch: 2\n",
            "Epoch: 3\n",
            "Epoch: 4\n",
            "Epoch: 5\n",
            "Epoch: 6\n",
            "Epoch: 7\n",
            "Epoch: 8\n",
            "Epoch: 9\n",
            "Epoch: 10\n",
            "Epoch: 11\n",
            "Epoch: 12\n",
            "Epoch: 13\n",
            "Epoch: 14\n",
            "Epoch: 15\n",
            "Epoch: 16\n",
            "Epoch: 17\n",
            "Epoch: 18\n",
            "Epoch: 19\n",
            "Epoch: 20\n",
            "Epoch: 21\n",
            "Epoch: 22\n",
            "Epoch: 23\n",
            "Epoch: 24\n",
            "Epoch: 25\n",
            "Epoch: 26\n",
            "Epoch: 27\n",
            "Epoch: 28\n",
            "Epoch: 29\n",
            "Epoch: 30\n",
            "Epoch: 31\n",
            "Epoch: 32\n",
            "Epoch: 33\n",
            "Epoch: 34\n",
            "Epoch: 35\n",
            "Epoch: 36\n",
            "Epoch: 37\n",
            "Epoch: 38\n",
            "Epoch: 39\n",
            "Epoch: 40\n",
            "Epoch: 41\n",
            "Epoch: 42\n",
            "Epoch: 43\n",
            "Epoch: 44\n",
            "Epoch: 45\n",
            "Epoch: 46\n",
            "Epoch: 47\n",
            "Epoch: 48\n",
            "Epoch: 49\n",
            "Epoch: 50\n",
            "Epoch: 51\n",
            "Epoch: 52\n",
            "Epoch: 53\n",
            "Epoch: 54\n",
            "Epoch: 55\n",
            "Epoch: 56\n",
            "Epoch: 57\n",
            "Epoch: 58\n",
            "Epoch: 59\n",
            "Epoch: 60\n",
            "Epoch: 61\n",
            "Epoch: 62\n",
            "Epoch: 63\n",
            "Epoch: 64\n",
            "Epoch: 65\n",
            "Epoch: 66\n",
            "Epoch: 67\n",
            "Epoch: 68\n",
            "Epoch: 69\n",
            "Epoch: 70\n",
            "Epoch: 71\n",
            "Epoch: 72\n",
            "Epoch: 73\n",
            "Epoch: 74\n",
            "Epoch: 75\n",
            "Epoch: 76\n",
            "Epoch: 77\n",
            "Epoch: 78\n",
            "Epoch: 79\n",
            "Epoch: 80\n",
            "Epoch: 81\n",
            "Epoch: 82\n",
            "Epoch: 83\n",
            "Epoch: 84\n",
            "Epoch: 85\n",
            "Epoch: 86\n",
            "Epoch: 87\n",
            "Epoch: 88\n",
            "Epoch: 89\n",
            "Epoch: 90\n",
            "Epoch: 91\n",
            "Epoch: 92\n",
            "Epoch: 93\n",
            "Epoch: 94\n",
            "Epoch: 95\n",
            "Epoch: 96\n",
            "Epoch: 97\n",
            "Epoch: 98\n",
            "Epoch: 99\n",
            "Epoch: 100\n",
            "Epoch: 101\n",
            "Epoch: 102\n",
            "Epoch: 103\n",
            "Epoch: 104\n",
            "Epoch: 105\n",
            "Epoch: 106\n",
            "Epoch: 107\n",
            "Epoch: 108\n",
            "Epoch: 109\n",
            "Epoch: 110\n",
            "Epoch: 111\n",
            "Epoch: 112\n",
            "Epoch: 113\n",
            "Epoch: 114\n",
            "Epoch: 115\n",
            "Epoch: 116\n",
            "Epoch: 117\n",
            "Epoch: 118\n",
            "Epoch: 119\n",
            "Epoch: 120\n",
            "Epoch: 121\n",
            "Epoch: 122\n",
            "Epoch: 123\n",
            "Epoch: 124\n",
            "Epoch: 125\n",
            "Epoch: 126\n",
            "Epoch: 127\n",
            "Epoch: 128\n",
            "Epoch: 129\n",
            "Epoch: 130\n",
            "Epoch: 131\n",
            "Epoch: 132\n",
            "Epoch: 133\n",
            "Epoch: 134\n",
            "Epoch: 135\n",
            "Epoch: 136\n",
            "Epoch: 137\n",
            "Epoch: 138\n",
            "Epoch: 139\n",
            "Epoch: 140\n",
            "Epoch: 141\n",
            "Epoch: 142\n",
            "Epoch: 143\n",
            "Epoch: 144\n",
            "Epoch: 145\n",
            "Epoch: 146\n",
            "Epoch: 147\n",
            "Epoch: 148\n",
            "Epoch: 149\n",
            "Epoch: 150\n",
            "Epoch: 151\n",
            "Epoch: 152\n",
            "Epoch: 153\n",
            "Epoch: 154\n",
            "Epoch: 155\n",
            "Epoch: 156\n",
            "Epoch: 157\n",
            "Epoch: 158\n",
            "Epoch: 159\n",
            "Epoch: 160\n",
            "Epoch: 161\n",
            "Epoch: 162\n",
            "Epoch: 163\n",
            "Epoch: 164\n",
            "Epoch: 165\n",
            "Epoch: 166\n",
            "Epoch: 167\n",
            "Epoch: 168\n",
            "Epoch: 169\n",
            "Epoch: 170\n",
            "Epoch: 171\n",
            "Epoch: 172\n",
            "Epoch: 173\n",
            "Epoch: 174\n",
            "Epoch: 175\n",
            "Epoch: 176\n",
            "Epoch: 177\n",
            "Epoch: 178\n",
            "Epoch: 179\n",
            "Epoch: 180\n",
            "Epoch: 181\n",
            "Epoch: 182\n",
            "Epoch: 183\n",
            "Epoch: 184\n",
            "Epoch: 185\n",
            "Epoch: 186\n",
            "Epoch: 187\n",
            "Epoch: 188\n",
            "Epoch: 189\n",
            "Epoch: 190\n",
            "Epoch: 191\n",
            "Epoch: 192\n",
            "Epoch: 193\n",
            "Epoch: 194\n",
            "Epoch: 195\n",
            "Epoch: 196\n",
            "Epoch: 197\n",
            "Epoch: 198\n",
            "Epoch: 199\n",
            "Epoch: 200\n",
            "Epoch: 201\n",
            "Epoch: 202\n",
            "Epoch: 203\n",
            "Epoch: 204\n",
            "Epoch: 205\n",
            "Epoch: 206\n",
            "Epoch: 207\n",
            "Epoch: 208\n",
            "Epoch: 209\n",
            "Epoch: 210\n",
            "Epoch: 211\n",
            "Epoch: 212\n",
            "Epoch: 213\n",
            "Epoch: 214\n",
            "Epoch: 215\n",
            "Epoch: 216\n",
            "Epoch: 217\n",
            "Epoch: 218\n",
            "Epoch: 219\n",
            "Epoch: 220\n",
            "Epoch: 221\n",
            "Epoch: 222\n",
            "Epoch: 223\n",
            "Epoch: 224\n",
            "Epoch: 225\n",
            "Epoch: 226\n",
            "Epoch: 227\n",
            "Epoch: 228\n",
            "Epoch: 229\n",
            "Epoch: 230\n",
            "Epoch: 231\n",
            "Epoch: 232\n",
            "Epoch: 233\n",
            "Epoch: 234\n",
            "Epoch: 235\n",
            "Epoch: 236\n",
            "Epoch: 237\n",
            "Epoch: 238\n",
            "Epoch: 239\n",
            "Epoch: 240\n",
            "Epoch: 241\n",
            "Epoch: 242\n",
            "Epoch: 243\n",
            "Epoch: 244\n",
            "Epoch: 245\n",
            "Epoch: 246\n",
            "Epoch: 247\n",
            "Epoch: 248\n",
            "Epoch: 249\n",
            "Epoch: 250\n",
            "Epoch: 251\n",
            "Epoch: 252\n",
            "Epoch: 253\n",
            "Epoch: 254\n",
            "Epoch: 255\n",
            "Epoch: 256\n",
            "Epoch: 257\n",
            "Epoch: 258\n",
            "Epoch: 259\n",
            "Epoch: 260\n",
            "Epoch: 261\n",
            "Epoch: 262\n",
            "Epoch: 263\n",
            "Epoch: 264\n",
            "Epoch: 265\n",
            "Epoch: 266\n",
            "Epoch: 267\n",
            "Epoch: 268\n",
            "Epoch: 269\n",
            "Epoch: 270\n",
            "Epoch: 271\n",
            "Epoch: 272\n",
            "Epoch: 273\n",
            "Epoch: 274\n",
            "Epoch: 275\n",
            "Epoch: 276\n",
            "Epoch: 277\n",
            "Epoch: 278\n",
            "Epoch: 279\n",
            "Epoch: 280\n",
            "Epoch: 281\n",
            "Epoch: 282\n",
            "Epoch: 283\n",
            "Epoch: 284\n",
            "Epoch: 285\n",
            "Epoch: 286\n",
            "Epoch: 287\n",
            "Epoch: 288\n",
            "Epoch: 289\n",
            "Epoch: 290\n",
            "Epoch: 291\n",
            "Epoch: 292\n",
            "Epoch: 293\n",
            "Epoch: 294\n",
            "Epoch: 295\n",
            "Epoch: 296\n",
            "Epoch: 297\n",
            "Epoch: 298\n",
            "Epoch: 299\n"
          ]
        }
      ]
    },
    {
      "cell_type": "code",
      "source": [
        "for images, labels in val_loader:\n",
        "  images = add_ones_to_tensor(images.type(torch.float32) / 255)\n",
        "  probabilities = model.forward(images)\n",
        "  print(probabilities.shape)\n",
        "  pred = torch.argmax(probabilities, dim=1)\n",
        "  print(pred.shape)\n",
        "  acc = (pred.numpy() == labels.numpy()).sum() / pred.shape[0]\n",
        "  print(f\"accuracy = {acc}\")\n",
        "  "
      ],
      "metadata": {
        "id": "Yx2EV7uLK3k2",
        "outputId": "baf95931-06a2-459b-f6c7-9129ab1f072e",
        "colab": {
          "base_uri": "https://localhost:8080/"
        }
      },
      "execution_count": 426,
      "outputs": [
        {
          "output_type": "stream",
          "name": "stdout",
          "text": [
            "torch.Size([10000, 10])\n",
            "torch.Size([10000])\n",
            "accuracy = 0.3089\n"
          ]
        }
      ]
    },
    {
      "cell_type": "code",
      "source": [
        "plt.plot(all_loss)"
      ],
      "metadata": {
        "id": "VBaKOvP9LNIV",
        "outputId": "66ff872f-548b-4adb-f143-975956e51b2f",
        "colab": {
          "base_uri": "https://localhost:8080/",
          "height": 283
        }
      },
      "execution_count": 427,
      "outputs": [
        {
          "output_type": "execute_result",
          "data": {
            "text/plain": [
              "[<matplotlib.lines.Line2D at 0x7fd4fc26bb50>]"
            ]
          },
          "metadata": {},
          "execution_count": 427
        },
        {
          "output_type": "display_data",
          "data": {
            "text/plain": [
              "<Figure size 432x288 with 1 Axes>"
            ],
            "image/png": "[encoded data removed]"
          },
          "metadata": {
            "needs_background": "light"
          }
        }
      ]
    },
    {
      "cell_type": "code",
      "source": [
        "for images, labels in val_loader:\n",
        "  images = "
      ],
      "metadata": {
        "id": "X5pPE-80Swh1"
      },
      "execution_count": null,
      "outputs": []
    },
    {
      "cell_type": "markdown",
      "metadata": {
        "id": "cyVPgrr5xjhU"
      },
      "source": [
        "# Train model"
      ]
    },
    {
      "cell_type": "markdown",
      "metadata": {
        "id": "v5zVN1kHd43W"
      },
      "source": [
        "## Function for accuracy checking\n",
        "\n",
        "Don't change this code"
      ]
    },
    {
      "cell_type": "code",
      "metadata": {
        "id": "dzhRClCsdzJw"
      },
      "source": [
        "from sklearn.metrics import accuracy_score\n",
        "\n",
        "def validate(model,dataloader):\n",
        "  y_predicted = np.array([])\n",
        "  y_gtrue = np.array([])\n",
        "  for images, class_nums in dataloader:\n",
        "    index = model.predict(images.numpy())\n",
        "    y_predicted = np.append(y_predicted,index) \n",
        "    y_gtrue = np.append(y_gtrue,class_nums.numpy()) \n",
        "  return accuracy_score(y_gtrue, y_predicted)"
      ],
      "execution_count": 111,
      "outputs": []
    },
    {
      "cell_type": "markdown",
      "metadata": {
        "id": "HQr1qYUlxq7X"
      },
      "source": [
        "## Train loop\n",
        "Let's train our model"
      ]
    },
    {
      "cell_type": "code",
      "metadata": {
        "id": "phcDEj7OdpGS",
        "outputId": "c3b38565-635a-4e61-c4b1-3e652e96eba1",
        "colab": {
          "base_uri": "https://localhost:8080/",
          "height": 1000
        }
      },
      "source": [
        "\n",
        "model = LinearClassifier(dataset.classes)\n",
        "best_accuracy = 0\n",
        "for epoch in range(25):\n",
        "  print(f\"Starting epoch={epoch}\")\n",
        "  for images, class_nums in train_loader:\n",
        "    loss = model.train(images, class_nums)\n",
        "  accuracy = validate(model,val_loader)\n",
        "  if best_accuracy < accuracy:\n",
        "    best_accuracy = accuracy\n",
        "  print(f\"Epoch {epoch} Loss: {loss}, Accuracy:{accuracy}\")\n",
        "\n",
        "print(f\"Best accuracy is {best_accuracy}\")"
      ],
      "execution_count": 224,
      "outputs": [
        {
          "output_type": "stream",
          "name": "stdout",
          "text": [
            "Starting epoch=0\n",
            "Epoch 0 Loss: 2.2402150630950928, Accuracy:0.24\n",
            "Starting epoch=1\n",
            "Epoch 1 Loss: 2.1346638202667236, Accuracy:0.225\n",
            "Starting epoch=2\n",
            "Epoch 2 Loss: 1.9985244274139404, Accuracy:0.217\n",
            "Starting epoch=3\n",
            "Epoch 3 Loss: 2.019589900970459, Accuracy:0.197\n",
            "Starting epoch=4\n",
            "Epoch 4 Loss: 2.340911388397217, Accuracy:0.19\n",
            "Starting epoch=5\n",
            "Epoch 5 Loss: 2.1221439838409424, Accuracy:0.221\n",
            "Starting epoch=6\n",
            "Epoch 6 Loss: 2.505711793899536, Accuracy:0.207\n",
            "Starting epoch=7\n",
            "Epoch 7 Loss: 2.397432327270508, Accuracy:0.218\n",
            "Starting epoch=8\n",
            "Epoch 8 Loss: 2.68744158744812, Accuracy:0.191\n",
            "Starting epoch=9\n",
            "Epoch 9 Loss: 2.6366589069366455, Accuracy:0.204\n",
            "Starting epoch=10\n",
            "Epoch 10 Loss: 4.097376346588135, Accuracy:0.191\n",
            "Starting epoch=11\n",
            "Epoch 11 Loss: 3.4222781658172607, Accuracy:0.182\n",
            "Starting epoch=12\n",
            "Epoch 12 Loss: 3.5858991146087646, Accuracy:0.155\n",
            "Starting epoch=13\n",
            "Epoch 13 Loss: 2.3892457485198975, Accuracy:0.206\n",
            "Starting epoch=14\n",
            "Epoch 14 Loss: 2.4798598289489746, Accuracy:0.193\n",
            "Starting epoch=15\n",
            "Epoch 15 Loss: 3.02689790725708, Accuracy:0.193\n",
            "Starting epoch=16\n",
            "Epoch 16 Loss: 3.684767007827759, Accuracy:0.19\n",
            "Starting epoch=17\n",
            "Epoch 17 Loss: 2.413422107696533, Accuracy:0.188\n",
            "Starting epoch=18\n",
            "Epoch 18 Loss: 4.783426284790039, Accuracy:0.158\n",
            "Starting epoch=19\n",
            "Epoch 19 Loss: 4.3332014083862305, Accuracy:0.184\n",
            "Starting epoch=20\n",
            "Epoch 20 Loss: 4.080665588378906, Accuracy:0.195\n",
            "Starting epoch=21\n"
          ]
        },
        {
          "output_type": "error",
          "ename": "KeyboardInterrupt",
          "evalue": "ignored",
          "traceback": [
            "\u001b[0;31m---------------------------------------------------------------------------\u001b[0m",
            "\u001b[0;31mKeyboardInterrupt\u001b[0m                         Traceback (most recent call last)",
            "\u001b[0;32m<ipython-input-224-5c0362b6396a>\u001b[0m in \u001b[0;36m<module>\u001b[0;34m\u001b[0m\n\u001b[1;32m      4\u001b[0m   \u001b[0mprint\u001b[0m\u001b[0;34m(\u001b[0m\u001b[0;34mf\"Starting epoch={epoch}\"\u001b[0m\u001b[0;34m)\u001b[0m\u001b[0;34m\u001b[0m\u001b[0;34m\u001b[0m\u001b[0m\n\u001b[1;32m      5\u001b[0m   \u001b[0;32mfor\u001b[0m \u001b[0mimages\u001b[0m\u001b[0;34m,\u001b[0m \u001b[0mclass_nums\u001b[0m \u001b[0;32min\u001b[0m \u001b[0mtrain_loader\u001b[0m\u001b[0;34m:\u001b[0m\u001b[0;34m\u001b[0m\u001b[0;34m\u001b[0m\u001b[0m\n\u001b[0;32m----> 6\u001b[0;31m     \u001b[0mloss\u001b[0m \u001b[0;34m=\u001b[0m \u001b[0mmodel\u001b[0m\u001b[0;34m.\u001b[0m\u001b[0mtrain\u001b[0m\u001b[0;34m(\u001b[0m\u001b[0mimages\u001b[0m\u001b[0;34m,\u001b[0m \u001b[0mclass_nums\u001b[0m\u001b[0;34m)\u001b[0m\u001b[0;34m\u001b[0m\u001b[0;34m\u001b[0m\u001b[0m\n\u001b[0m\u001b[1;32m      7\u001b[0m   \u001b[0maccuracy\u001b[0m \u001b[0;34m=\u001b[0m \u001b[0mvalidate\u001b[0m\u001b[0;34m(\u001b[0m\u001b[0mmodel\u001b[0m\u001b[0;34m,\u001b[0m\u001b[0mval_loader\u001b[0m\u001b[0;34m)\u001b[0m\u001b[0;34m\u001b[0m\u001b[0;34m\u001b[0m\u001b[0m\n\u001b[1;32m      8\u001b[0m   \u001b[0;32mif\u001b[0m \u001b[0mbest_accuracy\u001b[0m \u001b[0;34m<\u001b[0m \u001b[0maccuracy\u001b[0m\u001b[0;34m:\u001b[0m\u001b[0;34m\u001b[0m\u001b[0;34m\u001b[0m\u001b[0m\n",
            "\u001b[0;32m<ipython-input-217-0bef668cf853>\u001b[0m in \u001b[0;36mtrain\u001b[0;34m(self, images, labels, learning_rate)\u001b[0m\n\u001b[1;32m     19\u001b[0m     \u001b[0;31m# images = torch.from_numpy(images)\u001b[0m\u001b[0;34m\u001b[0m\u001b[0;34m\u001b[0m\u001b[0;34m\u001b[0m\u001b[0m\n\u001b[1;32m     20\u001b[0m \u001b[0;34m\u001b[0m\u001b[0m\n\u001b[0;32m---> 21\u001b[0;31m     \u001b[0mloss_val\u001b[0m\u001b[0;34m,\u001b[0m \u001b[0mgrad\u001b[0m \u001b[0;34m=\u001b[0m \u001b[0mself\u001b[0m\u001b[0;34m.\u001b[0m\u001b[0m__loss\u001b[0m\u001b[0;34m(\u001b[0m\u001b[0mimages\u001b[0m\u001b[0;34m,\u001b[0m \u001b[0mlabels\u001b[0m\u001b[0;34m)\u001b[0m\u001b[0;34m\u001b[0m\u001b[0;34m\u001b[0m\u001b[0m\n\u001b[0m\u001b[1;32m     22\u001b[0m \u001b[0;34m\u001b[0m\u001b[0m\n\u001b[1;32m     23\u001b[0m     \u001b[0mself\u001b[0m\u001b[0;34m.\u001b[0m\u001b[0m__weights\u001b[0m \u001b[0;34m-=\u001b[0m \u001b[0;34m(\u001b[0m\u001b[0mgrad\u001b[0m \u001b[0;34m*\u001b[0m \u001b[0mlearning_rate\u001b[0m\u001b[0;34m)\u001b[0m\u001b[0;34m\u001b[0m\u001b[0;34m\u001b[0m\u001b[0m\n",
            "\u001b[0;32m<ipython-input-217-0bef668cf853>\u001b[0m in \u001b[0;36m__loss\u001b[0;34m(self, images, labels)\u001b[0m\n\u001b[1;32m     51\u001b[0m     \u001b[0;31m# Calculate gradients (dL/dW) and store it in dW\u001b[0m\u001b[0;34m\u001b[0m\u001b[0;34m\u001b[0m\u001b[0;34m\u001b[0m\u001b[0m\n\u001b[1;32m     52\u001b[0m     \u001b[0;31m# grad = self.__calc_numeric_grad(partial(self.__calc_svm_loss, images, labels), loss)\u001b[0m\u001b[0;34m\u001b[0m\u001b[0;34m\u001b[0m\u001b[0;34m\u001b[0m\u001b[0m\n\u001b[0;32m---> 53\u001b[0;31m     \u001b[0mloss\u001b[0m\u001b[0;34m.\u001b[0m\u001b[0mbackward\u001b[0m\u001b[0;34m(\u001b[0m\u001b[0mretain_graph\u001b[0m\u001b[0;34m=\u001b[0m\u001b[0;32mTrue\u001b[0m\u001b[0;34m)\u001b[0m\u001b[0;34m\u001b[0m\u001b[0;34m\u001b[0m\u001b[0m\n\u001b[0m\u001b[1;32m     54\u001b[0m     \u001b[0mgrad\u001b[0m \u001b[0;34m=\u001b[0m \u001b[0mself\u001b[0m\u001b[0;34m.\u001b[0m\u001b[0m__w_unnormalized\u001b[0m\u001b[0;34m.\u001b[0m\u001b[0mgrad\u001b[0m\u001b[0;34m\u001b[0m\u001b[0;34m\u001b[0m\u001b[0m\n\u001b[1;32m     55\u001b[0m \u001b[0;34m\u001b[0m\u001b[0m\n",
            "\u001b[0;32m/usr/local/lib/python3.7/dist-packages/torch/_tensor.py\u001b[0m in \u001b[0;36mbackward\u001b[0;34m(self, gradient, retain_graph, create_graph, inputs)\u001b[0m\n\u001b[1;32m    394\u001b[0m                 \u001b[0mcreate_graph\u001b[0m\u001b[0;34m=\u001b[0m\u001b[0mcreate_graph\u001b[0m\u001b[0;34m,\u001b[0m\u001b[0;34m\u001b[0m\u001b[0;34m\u001b[0m\u001b[0m\n\u001b[1;32m    395\u001b[0m                 inputs=inputs)\n\u001b[0;32m--> 396\u001b[0;31m         \u001b[0mtorch\u001b[0m\u001b[0;34m.\u001b[0m\u001b[0mautograd\u001b[0m\u001b[0;34m.\u001b[0m\u001b[0mbackward\u001b[0m\u001b[0;34m(\u001b[0m\u001b[0mself\u001b[0m\u001b[0;34m,\u001b[0m \u001b[0mgradient\u001b[0m\u001b[0;34m,\u001b[0m \u001b[0mretain_graph\u001b[0m\u001b[0;34m,\u001b[0m \u001b[0mcreate_graph\u001b[0m\u001b[0;34m,\u001b[0m \u001b[0minputs\u001b[0m\u001b[0;34m=\u001b[0m\u001b[0minputs\u001b[0m\u001b[0;34m)\u001b[0m\u001b[0;34m\u001b[0m\u001b[0;34m\u001b[0m\u001b[0m\n\u001b[0m\u001b[1;32m    397\u001b[0m \u001b[0;34m\u001b[0m\u001b[0m\n\u001b[1;32m    398\u001b[0m     \u001b[0;32mdef\u001b[0m \u001b[0mregister_hook\u001b[0m\u001b[0;34m(\u001b[0m\u001b[0mself\u001b[0m\u001b[0;34m,\u001b[0m \u001b[0mhook\u001b[0m\u001b[0;34m)\u001b[0m\u001b[0;34m:\u001b[0m\u001b[0;34m\u001b[0m\u001b[0;34m\u001b[0m\u001b[0m\n",
            "\u001b[0;32m/usr/local/lib/python3.7/dist-packages/torch/autograd/__init__.py\u001b[0m in \u001b[0;36mbackward\u001b[0;34m(tensors, grad_tensors, retain_graph, create_graph, grad_variables, inputs)\u001b[0m\n\u001b[1;32m    173\u001b[0m     Variable._execution_engine.run_backward(  # Calls into the C++ engine to run the backward pass\n\u001b[1;32m    174\u001b[0m         \u001b[0mtensors\u001b[0m\u001b[0;34m,\u001b[0m \u001b[0mgrad_tensors_\u001b[0m\u001b[0;34m,\u001b[0m \u001b[0mretain_graph\u001b[0m\u001b[0;34m,\u001b[0m \u001b[0mcreate_graph\u001b[0m\u001b[0;34m,\u001b[0m \u001b[0minputs\u001b[0m\u001b[0;34m,\u001b[0m\u001b[0;34m\u001b[0m\u001b[0;34m\u001b[0m\u001b[0m\n\u001b[0;32m--> 175\u001b[0;31m         allow_unreachable=True, accumulate_grad=True)  # Calls into the C++ engine to run the backward pass\n\u001b[0m\u001b[1;32m    176\u001b[0m \u001b[0;34m\u001b[0m\u001b[0m\n\u001b[1;32m    177\u001b[0m def grad(\n",
            "\u001b[0;31mKeyboardInterrupt\u001b[0m: "
          ]
        }
      ]
    },
    {
      "cell_type": "markdown",
      "metadata": {
        "id": "D4tIFR5bwZFi"
      },
      "source": [
        "# Check model on test dataset\n",
        "\n",
        "You must get accuracy above 0.35\n"
      ]
    },
    {
      "cell_type": "code",
      "metadata": {
        "id": "MM0pWYJlwibm"
      },
      "source": [
        "test_dataset = datasets.CIFAR10(\"content\",\n",
        "                           train=False,\n",
        "                           transform = transform, # Transforms stay the same\n",
        "                           download=True)\n",
        "\n",
        "test_loader = DataLoader(test_dataset, batch_size = batch_size)\n",
        "\n",
        "accuracy = validate(model,test_loader)\n",
        "print(f\"Accuracy on test:{accuracy}\")\n"
      ],
      "execution_count": null,
      "outputs": []
    },
    {
      "cell_type": "markdown",
      "metadata": {
        "id": "ZsImxpggG8bH"
      },
      "source": [
        "# Place for brief conclusion\n",
        "Feel free to describe troubles here.\n",
        "\n",
        "\n",
        "...\n",
        "\n"
      ]
    },
    {
      "cell_type": "markdown",
      "metadata": {
        "id": "lJ13OmfCEb1w"
      },
      "source": [
        "# Ideas for extra work\n",
        "\n",
        "- Implenment CrossEntropyLoss function\n",
        "- Implement bias trick\n",
        "- Add regularization to SVM loss\n",
        "- Find best learning rate and regularization strength using Cross-Validation\n",
        "- Normalize data\n",
        "\n",
        "\n",
        " "
      ]
    }
  ]
}