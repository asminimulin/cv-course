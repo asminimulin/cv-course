{
  "nbformat": 4,
  "nbformat_minor": 0,
  "metadata": {
    "colab": {
      "provenance": [],
      "collapsed_sections": [],
      "include_colab_link": true
    },
    "kernelspec": {
      "name": "python3",
      "display_name": "Python 3"
    }
  },
  "cells": [
    {
      "cell_type": "markdown",
      "metadata": {
        "id": "view-in-github",
        "colab_type": "text"
      },
      "source": [
        "<a href=\"https://colab.research.google.com/github/asminimulin/cv-course/blob/main/01-image-classification/main.ipynb\" target=\"_parent\"><img src=\"https://colab.research.google.com/assets/colab-badge.svg\" alt=\"Open In Colab\"/></a>"
      ]
    },
    {
      "cell_type": "markdown",
      "source": [
        "# Image classification with KNN algorithm"
      ],
      "metadata": {
        "id": "5CuGC8KsNRoy"
      }
    },
    {
      "cell_type": "markdown",
      "source": [
        "## Install dependencies"
      ],
      "metadata": {
        "id": "wvh2V0fyQGMG"
      }
    },
    {
      "cell_type": "markdown",
      "source": [
        "## Mount the drive to store dataset"
      ],
      "metadata": {
        "id": "Rm_FgD6RNXOB"
      }
    },
    {
      "cell_type": "code",
      "source": [
        "from google.colab import drive\n",
        "drive.mount('/content/drive')"
      ],
      "metadata": {
        "id": "U4uTnbp8G-Ru",
        "outputId": "ac8f5da9-e815-4bb3-e86c-62a984435a13",
        "colab": {
          "base_uri": "https://localhost:8080/"
        }
      },
      "execution_count": 1,
      "outputs": [
        {
          "output_type": "stream",
          "name": "stdout",
          "text": [
            "Drive already mounted at /content/drive; to attempt to forcibly remount, call drive.mount(\"/content/drive\", force_remount=True).\n"
          ]
        }
      ]
    },
    {
      "cell_type": "markdown",
      "source": [
        "## Define global constants which are never changed"
      ],
      "metadata": {
        "id": "Omzje0SIJ5Vd"
      }
    },
    {
      "cell_type": "code",
      "source": [
        "class GlobalSettings:\n",
        "  \n",
        "  @property\n",
        "  def PROJECT_DIR(self):\n",
        "    return '/content/drive/MyDrive/cv-course/01-image-classification'\n",
        "\n",
        "  @property\n",
        "  def CLASS_NAMES(self):\n",
        "    return ['Самолет', 'Автомобиль', 'Птица', 'Кошка', 'Олень', 'Собака', 'Лягушка', 'Лошадь', 'Корабль', 'Грузовик']\n",
        "\n",
        "Global = GlobalSettings()"
      ],
      "metadata": {
        "id": "gIbsY4jbJJOo"
      },
      "execution_count": 2,
      "outputs": []
    },
    {
      "cell_type": "markdown",
      "metadata": {
        "id": "BRXusPhYCMOv"
      },
      "source": [
        "## Load the data\n",
        "\n",
        "You can download CIFAR10 dataset from official site:\n",
        "\n",
        "https://www.cs.toronto.edu/~kriz/cifar.html\n",
        "\n",
        "or do it using Pytorch:\n",
        "https://pytorch.org/vision/stable/datasets.html#cifar\n",
        "\n",
        "or another framework.\n",
        "\n"
      ]
    },
    {
      "cell_type": "code",
      "source": [
        "import torch\n",
        "import torchvision\n",
        "train_ds = torchvision.datasets.CIFAR10(Global.PROJECT_DIR, train=True, download=False)\n",
        "test_ds = torchvision.datasets.CIFAR10(Global.PROJECT_DIR, train=False)"
      ],
      "metadata": {
        "id": "sgyzlXLBNxyr"
      },
      "execution_count": 3,
      "outputs": []
    },
    {
      "cell_type": "code",
      "source": [
        "import matplotlib.pyplot as plt\n",
        "import numpy as np\n",
        "from operator import itemgetter\n",
        "\n",
        "x = np.arange(0, len(train_ds))\n",
        "y = np.array(list(map(itemgetter(1), train_ds)))\n",
        "\n",
        "fig, ax = plt.subplots()\n",
        "\n",
        "ax.scatter(x[:5000], y[:5000])\n",
        "\n",
        "plt.show()"
      ],
      "metadata": {
        "id": "JJts0vKC_ULv",
        "outputId": "2080a561-aa4d-45fd-ba72-fd33f05140e6",
        "colab": {
          "base_uri": "https://localhost:8080/",
          "height": 265
        }
      },
      "execution_count": 4,
      "outputs": [
        {
          "output_type": "display_data",
          "data": {
            "text/plain": [
              "<Figure size 432x288 with 1 Axes>"
            ],
            "image/png": "[encoded data removed]"
          },
          "metadata": {
            "needs_background": "light"
          }
        }
      ]
    },
    {
      "cell_type": "code",
      "source": [],
      "metadata": {
        "id": "CusVPCTTMhtT"
      },
      "execution_count": 4,
      "outputs": []
    },
    {
      "cell_type": "code",
      "source": [
        "from typing import Iterable, List, Tuple\n",
        "\n",
        "import numpy as np\n",
        "from PIL import Image\n",
        "\n",
        "\n",
        "class Dataset:\n",
        "  def __init__(self, train_ds: Iterable[Tuple[Image.Image, int]], test_ds: Iterable[Tuple[Image.Image, int]]):\n",
        "    \n",
        "    images = self.__get_images_array(train_ds)\n",
        "    labels = self.__get_labels_array(train_ds)\n",
        "    prediction_basis = [None] * len(Global.CLASS_NAMES)\n",
        "    for i in range(len(prediction_basis)):\n",
        "      prediction_basis[i] = images[labels == i]\n",
        "\n",
        "    self.__train_images = np.array(prediction_basis)\n",
        "\n",
        "    self.__test_images = self.__get_images_array(test_ds)\n",
        "    self.__test_labels = self.__get_labels_array(test_ds)    \n",
        "    \n",
        "  \n",
        "  @property\n",
        "  def validation(self) -> Tuple[np.array, np.array]:\n",
        "    return self.__test_images, self.__test_labels\n",
        "\n",
        "\n",
        "  @property\n",
        "  def train(self) -> np.array:\n",
        "    return self.__train_images\n",
        "\n",
        "\n",
        "  @property\n",
        "  def smoke_test(self) -> Tuple[np.array, np.array]:\n",
        "    return self.__test_images[:100], self.__test_labels[:100]\n",
        "\n",
        "\n",
        "  @staticmethod\n",
        "  def __convert_image_to_array(image: Image.Image) -> np.array:\n",
        "    assert 'RGB' == image.mode\n",
        "    return np.array(list(image.tobytes()))\n",
        "\n",
        "\n",
        "  @staticmethod\n",
        "  def __get_images_array(ds: Iterable[Tuple[Image.Image, int]]) -> np.array:\n",
        "    images = list(map(lambda x: Dataset.__convert_image_to_array(x[0]), ds))\n",
        "    return np.array(images)\n",
        "\n",
        "\n",
        "  @staticmethod\n",
        "  def __get_labels_array(ds: Iterable[Tuple[Image.Image, int]]):\n",
        "    labels = list(map(lambda item: item[1], ds))\n",
        "    return np.array(labels)\n",
        "\n",
        "dataset = Dataset(train_ds, test_ds)"
      ],
      "metadata": {
        "id": "TdcDrf1YKPEO"
      },
      "execution_count": 5,
      "outputs": []
    },
    {
      "cell_type": "markdown",
      "metadata": {
        "id": "jYyQ8jCrCUoP"
      },
      "source": [
        "## Split data into train and validation parts\n",
        "\n",
        "Extract subset containing train and validation parts. \n",
        "Part must contain 5000 and 500 samples respectively."
      ]
    },
    {
      "cell_type": "code",
      "metadata": {
        "id": "98B8sDpi8HRd",
        "outputId": "26084f70-a9c1-4d7d-bbfa-1b7ccdcb1527",
        "colab": {
          "base_uri": "https://localhost:8080/"
        }
      },
      "source": [
        "print(f\"Train dataset shape: {dataset.train.shape}\")\n",
        "print(f\"Validation dataset len: {len(dataset.validation[0])}\")\n"
      ],
      "execution_count": 6,
      "outputs": [
        {
          "output_type": "stream",
          "name": "stdout",
          "text": [
            "Train dataset shape: (10, 5000, 3072)\n",
            "Validation dataset len: 10000\n"
          ]
        }
      ]
    },
    {
      "cell_type": "markdown",
      "metadata": {
        "id": "WWDRnugWCDsU"
      },
      "source": [
        "## Dispaly some images  along with it class names\n",
        "  \n"
      ]
    },
    {
      "cell_type": "code",
      "metadata": {
        "id": "kUHLgFWQ6xBq",
        "outputId": "aea55b38-0f90-4e60-9c8d-82d7dde87e24",
        "colab": {
          "base_uri": "https://localhost:8080/",
          "height": 516
        }
      },
      "source": [
        "for i in range(len(Global.CLASS_NAMES)):\n",
        "  for image, index in train_ds:\n",
        "    if index == i:\n",
        "      print(Global.CLASS_NAMES[i])\n",
        "      display(image)\n",
        "      break"
      ],
      "execution_count": 7,
      "outputs": [
        {
          "output_type": "stream",
          "name": "stdout",
          "text": [
            "Самолет\n"
          ]
        },
        {
          "output_type": "display_data",
          "data": {
            "text/plain": [
              "<PIL.Image.Image image mode=RGB size=32x32 at 0x7FBD22F3ED50>"
            ],
            "image/png": "[encoded data removed]"
          },
          "metadata": {}
        },
        {
          "output_type": "stream",
          "name": "stdout",
          "text": [
            "Автомобиль\n"
          ]
        },
        {
          "output_type": "display_data",
          "data": {
            "text/plain": [
              "<PIL.Image.Image image mode=RGB size=32x32 at 0x7FBD22F3ED50>"
            ],
            "image/png": "[encoded data removed]"
          },
          "metadata": {}
        },
        {
          "output_type": "stream",
          "name": "stdout",
          "text": [
            "Птица\n"
          ]
        },
        {
          "output_type": "display_data",
          "data": {
            "text/plain": [
              "<PIL.Image.Image image mode=RGB size=32x32 at 0x7FBCAC057390>"
            ],
            "image/png": "[encoded data removed]"
          },
          "metadata": {}
        },
        {
          "output_type": "stream",
          "name": "stdout",
          "text": [
            "Кошка\n"
          ]
        },
        {
          "output_type": "display_data",
          "data": {
            "text/plain": [
              "<PIL.Image.Image image mode=RGB size=32x32 at 0x7FBCAC057310>"
            ],
            "image/png": "[encoded data removed]"
          },
          "metadata": {}
        },
        {
          "output_type": "stream",
          "name": "stdout",
          "text": [
            "Олень\n"
          ]
        },
        {
          "output_type": "display_data",
          "data": {
            "text/plain": [
              "<PIL.Image.Image image mode=RGB size=32x32 at 0x7FBCAC057650>"
            ],
            "image/png": "[encoded data removed]"
          },
          "metadata": {}
        },
        {
          "output_type": "stream",
          "name": "stdout",
          "text": [
            "Собака\n"
          ]
        },
        {
          "output_type": "display_data",
          "data": {
            "text/plain": [
              "<PIL.Image.Image image mode=RGB size=32x32 at 0x7FBCAC0577D0>"
            ],
            "image/png": "[encoded data removed]"
          },
          "metadata": {}
        },
        {
          "output_type": "stream",
          "name": "stdout",
          "text": [
            "Лягушка\n"
          ]
        },
        {
          "output_type": "display_data",
          "data": {
            "text/plain": [
              "<PIL.Image.Image image mode=RGB size=32x32 at 0x7FBCAC057910>"
            ],
            "image/png": "[encoded data removed]"
          },
          "metadata": {}
        },
        {
          "output_type": "stream",
          "name": "stdout",
          "text": [
            "Лошадь\n"
          ]
        },
        {
          "output_type": "display_data",
          "data": {
            "text/plain": [
              "<PIL.Image.Image image mode=RGB size=32x32 at 0x7FBCAC0574D0>"
            ],
            "image/png": "[encoded data removed]"
          },
          "metadata": {}
        },
        {
          "output_type": "stream",
          "name": "stdout",
          "text": [
            "Корабль\n"
          ]
        },
        {
          "output_type": "display_data",
          "data": {
            "text/plain": [
              "<PIL.Image.Image image mode=RGB size=32x32 at 0x7FBCAC0574D0>"
            ],
            "image/png": "[encoded data removed]"
          },
          "metadata": {}
        },
        {
          "output_type": "stream",
          "name": "stdout",
          "text": [
            "Грузовик\n"
          ]
        },
        {
          "output_type": "display_data",
          "data": {
            "text/plain": [
              "<PIL.Image.Image image mode=RGB size=32x32 at 0x7FBCAC057850>"
            ],
            "image/png": "[encoded data removed]"
          },
          "metadata": {}
        }
      ]
    },
    {
      "cell_type": "markdown",
      "metadata": {
        "id": "gVVCDZnvCoZI"
      },
      "source": [
        "# Implement NearestNeighbor class"
      ]
    },
    {
      "cell_type": "code",
      "metadata": {
        "id": "39EG-F_O8kbm"
      },
      "source": [
        "class NearestNeighbor:\n",
        "  def __init__(self, neighbors_num: int):\n",
        "    self.__neighbors_num = neighbors_num\n",
        "\n",
        "\n",
        "  def fit(self, train_images: np.array) -> None:\n",
        "    \"\"\"\n",
        "      Arguments:\n",
        "        train_images  iterable object of tuples of image and it's label\n",
        "    \"\"\"\n",
        "    self.__prediction_basis = train_images\n",
        "\n",
        "  \n",
        "  def predict(self, images: np.array) -> np.array:\n",
        "    \"\"\"\n",
        "      Arguments:\n",
        "          images  (Tensor or numpy.array): collection of objects from testset (batch)\n",
        "      \n",
        "      Returns:\n",
        "          class_num (Tensor or numpy.array) - collection of integer representing\n",
        "          class numbers for objects from x             \n",
        "    \"\"\"\n",
        "    return np.apply_along_axis(self.__predict_class, 1, images)\n",
        "\n",
        "\n",
        "  __neighbours_num: int\n",
        "  __prediction_basis: List[np.array]\n",
        "\n",
        "\n",
        "  def __predict_class(self, image: np.array) -> int:\n",
        "    distances = []\n",
        "    for class_elements in self.__prediction_basis:\n",
        "      selected_images = class_elements[np.random.randint(len(class_elements), size=self.__neighbors_num)]\n",
        "      class_distances = np.apply_along_axis(lambda img: self.__calculate_distance(image, img), 1, selected_images).sum()\n",
        "      distances.append(class_distances)\n",
        "    return np.argmin(distances)\n",
        "\n",
        "\n",
        "  @staticmethod\n",
        "  def __calculate_distance(first_image: np.array, second_image: np.array) -> int:\n",
        "    return ((second_image - first_image) ** 2).sum()\n"
      ],
      "execution_count": 8,
      "outputs": []
    },
    {
      "cell_type": "markdown",
      "metadata": {
        "id": "wHkxc21JCsmb"
      },
      "source": [
        "##Perform smoke test\n",
        "\n",
        "- Create model instance\n",
        "- get predictions for dozen of samples\n"
      ]
    },
    {
      "cell_type": "code",
      "metadata": {
        "id": "IEFk1K9gCTYf"
      },
      "source": [
        "def run_smoke_test():\n",
        "  model = NearestNeighbor(5)\n",
        "  model.fit(dataset.train)\n",
        "\n",
        "  images, labels = dataset.smoke_test\n",
        "  predicted_labels = model.predict(images)\n",
        "  accuracy = len(labels[predicted_labels == labels]) / len(labels)\n",
        "  print(f\"Accuracy of smoke test: {accuracy}\")"
      ],
      "execution_count": 9,
      "outputs": []
    },
    {
      "cell_type": "code",
      "source": [
        "run_smoke_test()"
      ],
      "metadata": {
        "id": "2PtnP144GbPi",
        "outputId": "e723935b-d009-4662-a249-89accdb94e71",
        "colab": {
          "base_uri": "https://localhost:8080/"
        }
      },
      "execution_count": 10,
      "outputs": [
        {
          "output_type": "stream",
          "name": "stdout",
          "text": [
            "Accuracy of smoke test: 0.2\n"
          ]
        }
      ]
    },
    {
      "cell_type": "markdown",
      "metadata": {
        "id": "jXd1XtQTCzi7"
      },
      "source": [
        "# Validate your model"
      ]
    },
    {
      "cell_type": "markdown",
      "metadata": {
        "id": "Nn9rKA56C49-"
      },
      "source": [
        "## Create validation function\n",
        "\n",
        "Must calculate Accuracy metric for your model."
      ]
    },
    {
      "cell_type": "code",
      "metadata": {
        "id": "0CntfpSeBoLW"
      },
      "source": [
        "def validate(model: NearestNeighbor, images: np.array, labels: np.array) -> float:\n",
        "  \"\"\"\n",
        "      Arguments:\n",
        "          model (Object): instance of NearestNeighbor class\n",
        "          x (Tensor or numpy.array): collection of objects \n",
        "          y (Tensor or numpy.array): collection of integer representing\n",
        "          class numbers for objects from x   \n",
        "      \n",
        "      Returns:\n",
        "          accuracy (float) : percentage of correctly classified objects \n",
        "    \"\"\"\n",
        "  \n",
        "  predicted_labels = model.predict(images)\n",
        "  accuracy = (predicted_labels == labels).sum() / len(labels)\n",
        "  \n",
        "  return accuracy"
      ],
      "execution_count": 11,
      "outputs": []
    },
    {
      "cell_type": "markdown",
      "metadata": {
        "id": "vjKQEAthEKxl"
      },
      "source": [
        " ## Calculate model accuracy on validation data"
      ]
    },
    {
      "cell_type": "code",
      "metadata": {
        "id": "Lv123m6OCEI-",
        "outputId": "5aea502a-ea71-4521-ee21-6423a186df27",
        "colab": {
          "base_uri": "https://localhost:8080/"
        }
      },
      "source": [
        "model = NearestNeighbor(20)\n",
        "model.fit(dataset.train)\n",
        "accuracy = validate(model, *dataset.validation)\n",
        "print(f\"Model accuracy: {accuracy}\")"
      ],
      "execution_count": 12,
      "outputs": [
        {
          "output_type": "stream",
          "name": "stdout",
          "text": [
            "Model accuracy: 0.1919\n"
          ]
        }
      ]
    },
    {
      "cell_type": "markdown",
      "metadata": {
        "id": "ZsImxpggG8bH"
      },
      "source": [
        "# Place for brief conclusion\n",
        "Feel free to describe troubles here.\n",
        "\n",
        "\n",
        "...\n",
        "\n"
      ]
    },
    {
      "cell_type": "markdown",
      "metadata": {
        "id": "lJ13OmfCEb1w"
      },
      "source": [
        "# Ideas for extra work\n",
        "\n",
        "- Implenment K-NearestNeighbor\n",
        "- Test different distance functions\n",
        "- Find hyperparams using Cross-Validation\n",
        "- Plot accuracy curve against K\n",
        "- Evaluate time  "
      ]
    },
    {
      "cell_type": "code",
      "source": [],
      "metadata": {
        "id": "FdP-Uxs0T2xS"
      },
      "execution_count": 12,
      "outputs": []
    }
  ]
}