{
  "nbformat": 4,
  "nbformat_minor": 0,
  "metadata": {
    "colab": {
      "provenance": [],
      "collapsed_sections": [],
      "include_colab_link": true
    },
    "kernelspec": {
      "name": "python3",
      "display_name": "Python 3"
    }
  },
  "cells": [
    {
      "cell_type": "markdown",
      "metadata": {
        "id": "view-in-github",
        "colab_type": "text"
      },
      "source": [
        "<a href=\"https://colab.research.google.com/github/asminimulin/cv-course/blob/main/01-image-classification/main.ipynb\" target=\"_parent\"><img src=\"https://colab.research.google.com/assets/colab-badge.svg\" alt=\"Open In Colab\"/></a>"
      ]
    },
    {
      "cell_type": "markdown",
      "metadata": {
        "id": "BRXusPhYCMOv"
      },
      "source": [
        "# Load the data\n",
        "\n",
        "You can download CIFAR10 dataset from official site:\n",
        "\n",
        "https://www.cs.toronto.edu/~kriz/cifar.html\n",
        "\n",
        "or do it using Pytorch:\n",
        "https://pytorch.org/vision/stable/datasets.html#cifar\n",
        "\n",
        "or another framework.\n",
        "\n"
      ]
    },
    {
      "cell_type": "code",
      "metadata": {
        "id": "kUHLgFWQ6xBq"
      },
      "source": [
        "# Put your code here\n",
        "\n",
        "classes = ['Самолет', 'Автомобиль', 'Птица', 'Кошка', 'Олень', 'Собака', 'Лягушка', 'Лошадь', 'Корабль', 'Грузовик']"
      ],
      "execution_count": null,
      "outputs": []
    },
    {
      "cell_type": "markdown",
      "metadata": {
        "id": "jYyQ8jCrCUoP"
      },
      "source": [
        "## Split data into train and validation parts\n",
        "\n",
        "Extract subset containing train and validation parts. \n",
        "Part must contain 5000 and 500 samples respectively."
      ]
    },
    {
      "cell_type": "code",
      "metadata": {
        "id": "98B8sDpi8HRd"
      },
      "source": [
        "# Put your code here\n",
        "\n",
        "\n",
        "# Train data 5000 samples\n",
        "X_train =  # ...\n",
        "y_train =  # ...\n",
        "\n",
        "# Validation data 500 samples\n",
        "X_val = # ...\n",
        "y_val = # ..."
      ],
      "execution_count": null,
      "outputs": []
    },
    {
      "cell_type": "markdown",
      "metadata": {
        "id": "WWDRnugWCDsU"
      },
      "source": [
        "## Dispaly some images  along with it class names\n",
        "  \n"
      ]
    },
    {
      "cell_type": "code",
      "metadata": {
        "id": "K0xyDO8YB95O"
      },
      "source": [
        "# Put your code here"
      ],
      "execution_count": null,
      "outputs": []
    },
    {
      "cell_type": "markdown",
      "metadata": {
        "id": "gVVCDZnvCoZI"
      },
      "source": [
        "# Implement NearestNeighbor class"
      ]
    },
    {
      "cell_type": "code",
      "metadata": {
        "id": "39EG-F_O8kbm"
      },
      "source": [
        "class NearestNeighbor:\n",
        "  def __init__(self): # You can change the method signature\n",
        "    pass\n",
        "\n",
        "  def fit(self,x,y): # You can change the method signature\n",
        "    \"\"\"\n",
        "      Arguments:\n",
        "        x  (Tensor or numpy.array): collection of objects from testset (batch)\n",
        "        y  (Tensor or numpy.array): collection of integer \n",
        "        representing a class number for objects from x\n",
        "    \n",
        "    \"\"\"\n",
        "    pass\n",
        "  \n",
        "  def predict(self,x):\n",
        "    \"\"\"\n",
        "      Arguments:\n",
        "          x  (Tensor or numpy.array): collection of objects from testset (batch)\n",
        "      \n",
        "      Returns:\n",
        "          class_num (Tensor or numpy.array) - collection of integer representing\n",
        "          class numbers for objects from x             \n",
        "    \"\"\"\n",
        "    \n",
        "    # ... Put you code here\n",
        "\n",
        "    return labels"
      ],
      "execution_count": null,
      "outputs": []
    },
    {
      "cell_type": "markdown",
      "metadata": {
        "id": "wHkxc21JCsmb"
      },
      "source": [
        "##Perform smoke test\n",
        "\n",
        "- Create model instance\n",
        "- get predictions for dozen of samples\n"
      ]
    },
    {
      "cell_type": "code",
      "metadata": {
        "id": "IEFk1K9gCTYf"
      },
      "source": [
        "model_nn = NearestNeighbor()\n",
        "# Put your code here if need \n",
        "model.nn.fit(X_train)\n",
        "predicted_labels = model.predict(X_test[0:9])\n",
        "for i, label in enumerate(predicted_labels):\n",
        "  print(classes[label],\"vs\",classes[y_test[i]])"
      ],
      "execution_count": null,
      "outputs": []
    },
    {
      "cell_type": "markdown",
      "metadata": {
        "id": "jXd1XtQTCzi7"
      },
      "source": [
        "# Validate your model"
      ]
    },
    {
      "cell_type": "markdown",
      "metadata": {
        "id": "Nn9rKA56C49-"
      },
      "source": [
        "## Create validation function\n",
        "\n",
        "Must calculate Accuracy metric for your model."
      ]
    },
    {
      "cell_type": "code",
      "metadata": {
        "id": "0CntfpSeBoLW"
      },
      "source": [
        "def validate(model,x, y):\n",
        "  \"\"\"\n",
        "      Arguments:\n",
        "          model (Object): instance of NearestNeighbor class\n",
        "          x (Tensor or numpy.array): collection of objects \n",
        "          y (Tensor or numpy.array): collection of integer representing\n",
        "          class numbers for objects from x   \n",
        "      \n",
        "      Returns:\n",
        "          accuracy (float) : percentage of correctly classified objects \n",
        "    \"\"\"\n",
        "  \n",
        "  # ... Put you code here\n",
        "  \n",
        "  return accuracy"
      ],
      "execution_count": null,
      "outputs": []
    },
    {
      "cell_type": "markdown",
      "metadata": {
        "id": "vjKQEAthEKxl"
      },
      "source": [
        " ## Calculate model accuracy on validation data"
      ]
    },
    {
      "cell_type": "code",
      "metadata": {
        "id": "Lv123m6OCEI-"
      },
      "source": [
        "accuracy = validate(model_nn,X_test,y_test) \n",
        "print (\"Accuracy {:.3f}\".format(accuracy)"
      ],
      "execution_count": null,
      "outputs": []
    },
    {
      "cell_type": "markdown",
      "metadata": {
        "id": "ZsImxpggG8bH"
      },
      "source": [
        "# Place for brief conclusion\n",
        "Feel free to describe troubles here.\n",
        "\n",
        "\n",
        "...\n",
        "\n"
      ]
    },
    {
      "cell_type": "markdown",
      "metadata": {
        "id": "lJ13OmfCEb1w"
      },
      "source": [
        "# Ideas for extra work\n",
        "\n",
        "- Implenment K-NearestNeighbor\n",
        "- Test different distance functions\n",
        "- Find hyperparams using Cross-Validation\n",
        "- Plot accuracy curve against K\n",
        "- Evaluate time  "
      ]
    }
  ]
}